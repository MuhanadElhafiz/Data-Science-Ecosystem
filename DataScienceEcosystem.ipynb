{
 "cells": [
  {
   "cell_type": "markdown",
   "metadata": {},
   "source": [
    "<center>\n",
    "    <img src=\"https://cf-courses-data.s3.us.cloud-object-storage.appdomain.cloud/IBMDeveloperSkillsNetwork-DS0105EN-SkillsNetwork/labs/Module2/images/SN_web_lightmode.png\" width=\"300\" alt=\"cognitiveclass.ai logo\">\n",
    "</center>\n"
   ]
  },
  {
   "cell_type": "markdown",
   "metadata": {},
   "source": [
    "#### Add your code below following the instructions given in the course\n"
   ]
  },
  {
   "cell_type": "markdown",
   "metadata": {},
   "source": [
    "# Data Science Tools and Ecosystem"
   ]
  },
  {
   "cell_type": "markdown",
   "metadata": {},
   "source": [
    "In this notebook, We will summerize Data Science Tools and the concept of Data Ecosystem "
   ]
  },
  {
   "cell_type": "markdown",
   "metadata": {},
   "source": [
    "## **Objectives:**\n",
    "- To demonstrate the most common programming languages\n",
    "- To list commonly used libraries \n",
    "- To categorized the libraries based on their's application"
   ]
  },
  {
   "cell_type": "markdown",
   "metadata": {},
   "source": [
    "## Most Common Programming Languages"
   ]
  },
  {
   "cell_type": "markdown",
   "metadata": {},
   "source": [
    "\n",
    "Data scientists commonly use several programming languages and tools, depending on their specific needs, preferences, and the nature of the tasks at hand. Some of the most popular languages and tools among data scientists include:\n",
    "1. **python**\n",
    "2. **R**\n",
    "3. **SQl**\n",
    "4. **Julia**\n",
    "5. **Scala**\n",
    "6. **Java**"
   ]
  },
  {
   "cell_type": "markdown",
   "metadata": {},
   "source": [
    "## Most Common Libraries Among Different Languages"
   ]
  },
  {
   "cell_type": "markdown",
   "metadata": {},
   "source": [
    "Data scientists rely on a plethora of libraries in various programming languages to efficiently manipulate, analyze, and visualize data. Here are some of the most commonly used libraries across different languages:\n",
    "- Python common libraries include:\n",
    "1. NumPy: Fundamental package for scientific computing with support for powerful N-dimensional array objects and essential linear algebra operations.\n",
    "2. Pandas: High-level data manipulation and analysis library offering versatile data structures like DataFrame for easy handling of structured data.\n",
    "3. Matplotlib: Comprehensive plotting library for creating static, interactive, and publication-quality visualizations.\n",
    "- R common libraries include:\n",
    "1. dplyr and tidyr: Tidyverse packages providing tools for easy and intuitive data manipulation, including filtering, selecting, grouping, summarizing, and reshaping.\n",
    "2. ggplot2: Powerful and flexible package for creating elegant graphics based on the grammar of graphics principles.\n",
    "3. lattice: Another popular graphics package for creating trellis plots and conditioning plots to visualize multivariate data"
   ]
  },
  {
   "cell_type": "markdown",
   "metadata": {},
   "source": [
    "**Here's a table summarizing some popular data science tools across different categories**"
   ]
  },
  {
   "cell_type": "markdown",
   "metadata": {},
   "source": [
    "|Language|Data Manipulation|Data Visualization|Machine Learning|\n",
    "|--------- |----------------|------------------|----------------|\n",
    "|R| dplyr|ggplot2|caret|\n",
    "|Python|Pandas|Matplotlib|Scikit-learn|"
   ]
  },
  {
   "cell_type": "markdown",
   "metadata": {},
   "source": [
    "### Examples of Arithmetic Expressions in Python"
   ]
  },
  {
   "cell_type": "code",
   "execution_count": 1,
   "metadata": {
    "tags": []
   },
   "outputs": [
    {
     "data": {
      "text/plain": [
       "17"
      ]
     },
     "execution_count": 1,
     "metadata": {},
     "output_type": "execute_result"
    }
   ],
   "source": [
    "# This is a straightforward mathematical operation involving the multiplication and addition of integers\n",
    "(3*4)+5"
   ]
  },
  {
   "cell_type": "code",
   "execution_count": 2,
   "metadata": {
    "tags": []
   },
   "outputs": [
    {
     "data": {
      "text/plain": [
       "3.3333333333333335"
      ]
     },
     "execution_count": 2,
     "metadata": {},
     "output_type": "execute_result"
    }
   ],
   "source": [
    "# The following Equation To Convert Minutes Into Hours\n",
    "200/60"
   ]
  },
  {
   "cell_type": "markdown",
   "metadata": {},
   "source": [
    "## Author\n",
    "Muhanad Elhafiz Abdalla"
   ]
  },
  {
   "cell_type": "code",
   "execution_count": null,
   "metadata": {},
   "outputs": [],
   "source": []
  }
 ],
 "metadata": {
  "kernelspec": {
   "display_name": "Python",
   "language": "python",
   "name": "conda-env-python-py"
  },
  "language_info": {
   "codemirror_mode": {
    "name": "ipython",
    "version": 3
   },
   "file_extension": ".py",
   "mimetype": "text/x-python",
   "name": "python",
   "nbconvert_exporter": "python",
   "pygments_lexer": "ipython3",
   "version": "3.7.12"
  }
 },
 "nbformat": 4,
 "nbformat_minor": 4
}
